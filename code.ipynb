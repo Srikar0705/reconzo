{
 "cells": [
  {
   "cell_type": "code",
   "execution_count": 30,
   "id": "78f61917-b714-4312-bdb0-54d5131228a9",
   "metadata": {},
   "outputs": [
    {
     "name": "stdout",
     "output_type": "stream",
     "text": [
      "Merged data saved to C:/Users/DELL/Desktop/Reconzo_Product_Analyst_Assignment/outputs/merged_data.csv\n"
     ]
    }
   ],
   "source": [
    "import pandas as pd\n",
    "\n",
    "# File paths\n",
    "data_path = r\"C:/Users/DELL/Desktop/Reconzo_Product_Analyst_Assignment/data/\"\n",
    "output_path = r\"C:/Users/DELL/Desktop/Reconzo_Product_Analyst_Assignment/outputs/\"\n",
    "oms_file = data_path + \"oms.csv\"\n",
    "pf_file = data_path + \"pf.csv\"\n",
    "output_file = output_path + \"merged_data.csv\"\n",
    "\n",
    "# Load datasets\n",
    "oms_df = pd.read_csv(oms_file)\n",
    "pf_df = pd.read_csv(pf_file)\n",
    "\n",
    "# Normalize column names\n",
    "oms_df.columns = oms_df.columns.str.lower()\n",
    "pf_df.columns = pf_df.columns.str.lower()\n",
    "\n",
    "# Convert 'sku' to string type\n",
    "oms_df['sku'] = oms_df['sku'].astype(str)\n",
    "pf_df['sku'] = pf_df['sku'].astype(str)\n",
    "\n",
    "# Ensure key columns exist\n",
    "required_columns = {'sku', 'awbno', 'getstatus'}\n",
    "if not required_columns.issubset(oms_df.columns):\n",
    "    raise ValueError(\"oms.csv is missing required columns\")\n",
    "if not {'sku', 'awbno'}.issubset(pf_df.columns):\n",
    "    raise ValueError(\"pf.csv is missing required columns\")\n",
    "\n",
    "# Merge datasets on 'sku' and 'awbno'\n",
    "merged_df = pd.merge(oms_df, pf_df, on=['sku', 'awbno'], how='outer', indicator=True)\n",
    "\n",
    "# Define final inventory status logic\n",
    "def determine_status(row):\n",
    "    if row['_merge'] == 'both':\n",
    "        return row['getstatus']  # Match found\n",
    "    elif row['_merge'] == 'left_only':\n",
    "        return \"missing\"  # awbno not found in pf.csv\n",
    "    elif row['_merge'] == 'right_only':\n",
    "        return \"missing\"  # awbno not found in oms.csv\n",
    "    else:\n",
    "        return row['getstatus'] + \"-sku-mismatch\" if pd.notna(row['getstatus']) else \"sku-mismatch\"\n",
    "\n",
    "# Apply logic to create 'final inventory status'\n",
    "merged_df['final inventory status'] = merged_df.apply(determine_status, axis=1)\n",
    "\n",
    "# Drop unnecessary columns\n",
    "merged_df.drop(columns=['_merge'], inplace=True)\n",
    "\n",
    "# Save merged data\n",
    "merged_df.to_csv(output_file, index=False)\n",
    "\n",
    "print(f\"Merged data saved to {output_file}\")\n"
   ]
  },
  {
   "cell_type": "code",
   "execution_count": null,
   "id": "3593cf65-7719-4664-b7b4-9e15657e961f",
   "metadata": {},
   "outputs": [],
   "source": []
  }
 ],
 "metadata": {
  "kernelspec": {
   "display_name": "Python 3 (ipykernel)",
   "language": "python",
   "name": "python3"
  },
  "language_info": {
   "codemirror_mode": {
    "name": "ipython",
    "version": 3
   },
   "file_extension": ".py",
   "mimetype": "text/x-python",
   "name": "python",
   "nbconvert_exporter": "python",
   "pygments_lexer": "ipython3",
   "version": "3.12.7"
  }
 },
 "nbformat": 4,
 "nbformat_minor": 5
}
